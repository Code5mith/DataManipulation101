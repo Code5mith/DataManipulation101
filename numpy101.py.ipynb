{
 "cells": [
  {
   "cell_type": "markdown",
   "id": "23d98022",
   "metadata": {},
   "source": [
    "# Import numpy "
   ]
  },
  {
   "cell_type": "code",
   "execution_count": 10,
   "id": "ca390509",
   "metadata": {},
   "outputs": [],
   "source": [
    "import numpy as np"
   ]
  },
  {
   "cell_type": "code",
   "execution_count": 108,
   "id": "aeb0042a",
   "metadata": {},
   "outputs": [],
   "source": [
    "list1D = [2,3,4,5,5,6,7,7] \n",
    "list2D = [[4,5,7],[30,34,90],[78,56,67],[776,78,66]] "
   ]
  },
  {
   "cell_type": "markdown",
   "id": "1c5b6f85",
   "metadata": {},
   "source": [
    "# Initializeing our arrays"
   ]
  },
  {
   "cell_type": "code",
   "execution_count": 109,
   "id": "923f949e",
   "metadata": {},
   "outputs": [
    {
     "name": "stdout",
     "output_type": "stream",
     "text": [
      "<class 'list'>\n",
      "=====\n"
     ]
    },
    {
     "data": {
      "text/plain": [
       "numpy.ndarray"
      ]
     },
     "execution_count": 109,
     "metadata": {},
     "output_type": "execute_result"
    }
   ],
   "source": [
    "\n",
    "nplist = np.array(list1D)\n",
    "nplist2 = np.array(list2D)\n",
    "\n",
    "print(type(list1D))\n",
    "print('=====')\n",
    "type(nplist)"
   ]
  },
  {
   "cell_type": "markdown",
   "id": "344cdc5b",
   "metadata": {},
   "source": [
    "# Dimension and shape"
   ]
  },
  {
   "cell_type": "code",
   "execution_count": 110,
   "id": "147d0c40",
   "metadata": {},
   "outputs": [
    {
     "name": "stdout",
     "output_type": "stream",
     "text": [
      "1\n",
      "(8,)\n",
      "\n",
      " (4, 3)\n"
     ]
    }
   ],
   "source": [
    "#number of diamensions \n",
    "\n",
    "print(nplist.ndim)\n",
    " \n",
    "#shape\n",
    "\n",
    "print(nplist.shape)\n",
    "print(\"\\n\", nplist2.shape)"
   ]
  },
  {
   "cell_type": "markdown",
   "id": "cac2635f",
   "metadata": {},
   "source": [
    "# Changing the size of the items"
   ]
  },
  {
   "cell_type": "code",
   "execution_count": 111,
   "id": "79ba5f71",
   "metadata": {},
   "outputs": [
    {
     "name": "stdout",
     "output_type": "stream",
     "text": [
      "int64\n",
      "\n",
      " int16\n",
      "\n",
      " 64\n",
      "\n",
      " 16\n"
     ]
    }
   ],
   "source": [
    "print(nplist.dtype)\n",
    "\n",
    "smallnp = np.array(list1D, dtype=\"int16\")\n",
    "\n",
    "print(\"\\n\", smallnp.dtype)\n",
    "\n",
    "print(\"\\n\", nplist.nbytes)\n",
    "\n",
    "print(\"\\n\", smallnp.nbytes)"
   ]
  },
  {
   "cell_type": "markdown",
   "id": "7b408bf9",
   "metadata": {},
   "source": [
    "# Accessing items "
   ]
  },
  {
   "cell_type": "code",
   "execution_count": 79,
   "id": "809a27eb",
   "metadata": {},
   "outputs": [
    {
     "data": {
      "text/plain": [
       "array([2, 3, 4, 5, 5, 6, 7, 7])"
      ]
     },
     "execution_count": 79,
     "metadata": {},
     "output_type": "execute_result"
    }
   ],
   "source": [
    "nplist"
   ]
  },
  {
   "cell_type": "code",
   "execution_count": 80,
   "id": "7d6f13cc",
   "metadata": {},
   "outputs": [
    {
     "data": {
      "text/plain": [
       "4"
      ]
     },
     "execution_count": 80,
     "metadata": {},
     "output_type": "execute_result"
    }
   ],
   "source": [
    "nplist[2]"
   ]
  },
  {
   "cell_type": "code",
   "execution_count": 81,
   "id": "04495e48",
   "metadata": {},
   "outputs": [
    {
     "data": {
      "text/plain": [
       "array([[  4,   5,   7],\n",
       "       [ 30,  34,  90],\n",
       "       [ 78,  56,  67],\n",
       "       [776,  78,  66]])"
      ]
     },
     "execution_count": 81,
     "metadata": {},
     "output_type": "execute_result"
    }
   ],
   "source": [
    "nplist2"
   ]
  },
  {
   "cell_type": "code",
   "execution_count": 82,
   "id": "7b258d7a",
   "metadata": {},
   "outputs": [
    {
     "data": {
      "text/plain": [
       "7"
      ]
     },
     "execution_count": 82,
     "metadata": {},
     "output_type": "execute_result"
    }
   ],
   "source": [
    "nplist2[0][2]"
   ]
  },
  {
   "cell_type": "markdown",
   "id": "ff09bcd3",
   "metadata": {},
   "source": [
    "# To change an item from the array"
   ]
  },
  {
   "cell_type": "code",
   "execution_count": 86,
   "id": "7fc9f5ae",
   "metadata": {},
   "outputs": [
    {
     "data": {
      "text/plain": [
       "array([2, 3, 7, 5, 5, 6, 7, 7])"
      ]
     },
     "execution_count": 86,
     "metadata": {},
     "output_type": "execute_result"
    }
   ],
   "source": [
    "nplist[2] = 7\n",
    "nplist"
   ]
  },
  {
   "cell_type": "markdown",
   "id": "82c8c1d9",
   "metadata": {},
   "source": [
    "# Creating new arrays"
   ]
  },
  {
   "cell_type": "code",
   "execution_count": 2,
   "id": "54261e84",
   "metadata": {
    "scrolled": true
   },
   "outputs": [
    {
     "name": "stdout",
     "output_type": "stream",
     "text": [
      "\n",
      " [0. 0. 0. 0. 0. 0. 0. 0.]\n",
      "\n",
      " [[0. 0. 0.]\n",
      " [0. 0. 0.]]\n",
      "\n",
      " [[[1. 1.]\n",
      "  [1. 1.]\n",
      "  [1. 1.]]\n",
      "\n",
      " [[1. 1.]\n",
      "  [1. 1.]\n",
      "  [1. 1.]]]\n",
      "\n",
      " [[10 10 10]\n",
      " [10 10 10]]\n"
     ]
    }
   ],
   "source": [
    "#There are two functions that allow as to initialize array  of any \n",
    "#diamension\n",
    "\n",
    "a = np.zeros(8)\n",
    "b = np.zeros((2,3))\n",
    "c = np.ones((2,3,2))\n",
    "d = np.full((2,3), 10)\n",
    "\n",
    "print(\"\\n\", a)\n",
    "print(\"\\n\", b)\n",
    "print(\"\\n\", c)\n",
    "print(\"\\n\", d)"
   ]
  },
  {
   "cell_type": "markdown",
   "id": "a400270d",
   "metadata": {},
   "source": [
    "# generating an array with random numbers"
   ]
  },
  {
   "cell_type": "code",
   "execution_count": 104,
   "id": "267f6c89",
   "metadata": {
    "scrolled": true
   },
   "outputs": [
    {
     "name": "stdout",
     "output_type": "stream",
     "text": [
      "\n",
      " [[0.07243638 0.60037866 0.09711244 0.23324624]\n",
      " [0.86471971 0.82243985 0.4394291  0.60038018]]\n",
      "\n",
      " [[[0.4969145  0.45871919 0.13733833 0.794646   0.28863117]\n",
      "  [0.51838436 0.34578149 0.777566   0.86440324 0.3539286 ]\n",
      "  [0.09071391 0.37925982 0.14165056 0.47662383 0.34240657]]\n",
      "\n",
      " [[0.54854771 0.48648584 0.36790448 0.87780187 0.86006742]\n",
      "  [0.33237884 0.38684155 0.71064439 0.46139756 0.20024778]\n",
      "  [0.38877617 0.98734332 0.77845875 0.69909746 0.46203057]]]\n"
     ]
    }
   ],
   "source": [
    "#here we directly pass the diamensions of the metrix we want unlike the above case\n",
    "\n",
    "r = np.random.rand(2,4)\n",
    "r2 = np.random.rand(2,3,5)\n",
    "\n",
    "print(\"\\n\", r)\n",
    "print(\"\\n\", r2)"
   ]
  },
  {
   "cell_type": "code",
   "execution_count": 48,
   "id": "4cf5deed",
   "metadata": {},
   "outputs": [
    {
     "name": "stdout",
     "output_type": "stream",
     "text": [
      "[[2 3 7 4 7]\n",
      " [6 6 5 5 5]\n",
      " [2 8 2 8 7]\n",
      " [5 7 5 4 2]]\n",
      "(4, 5)\n"
     ]
    }
   ],
   "source": [
    "#TO generate interger numbers, first parameter is the range we want and second is the size of the metrix\n",
    "\n",
    "intarray = np.random.randint(2,9, size=(4,5))\n",
    "\n",
    "print(intarray)\n",
    "\n",
    "#confirm that it is the right shape\n",
    "print(intarray.shape)\n"
   ]
  },
  {
   "cell_type": "code",
   "execution_count": 51,
   "id": "af442971",
   "metadata": {},
   "outputs": [
    {
     "data": {
      "text/plain": [
       "array([[2, 3, 5, 6],\n",
       "       [2, 3, 5, 6],\n",
       "       [2, 3, 5, 6]])"
      ]
     },
     "execution_count": 51,
     "metadata": {},
     "output_type": "execute_result"
    }
   ],
   "source": [
    "#to repeat an array\n",
    "\n",
    "arr = [[2,3,5,6]]\n",
    "\n",
    "#must specify axis to repeat a multidiamensional array set it to 0.\n",
    "np.repeat(arr,3, axis=0)\n"
   ]
  },
  {
   "cell_type": "code",
   "execution_count": 84,
   "id": "7602e07a",
   "metadata": {},
   "outputs": [
    {
     "name": "stdout",
     "output_type": "stream",
     "text": [
      "[[1. 1. 1. 1. 1.]\n",
      " [1. 0. 0. 0. 1.]\n",
      " [1. 0. 9. 0. 1.]\n",
      " [1. 0. 0. 0. 1.]\n",
      " [1. 1. 1. 1. 1.]]\n"
     ]
    }
   ],
   "source": [
    "\n",
    "identity = np.ones((5,5))\n",
    "zeros = np.zeros((3,3))\n",
    "zeros[1,1] = 9\n",
    "\n",
    "newarray = identity[1:4,1:4] = zeros\n",
    "\n",
    "print(identity)"
   ]
  },
  {
   "cell_type": "markdown",
   "id": "139d4b34",
   "metadata": {},
   "source": [
    "# Mathematics with numpy"
   ]
  },
  {
   "cell_type": "code",
   "execution_count": 8,
   "id": "020ce442",
   "metadata": {
    "scrolled": false
   },
   "outputs": [
    {
     "name": "stdout",
     "output_type": "stream",
     "text": [
      "[[1. 1. 1. 1.]\n",
      " [1. 1. 1. 1.]\n",
      " [1. 1. 1. 1.]\n",
      " [1. 1. 1. 1.]]\n",
      "\n",
      " [[7. 7. 7. 7.]\n",
      " [7. 7. 7. 7.]\n",
      " [7. 7. 7. 7.]\n",
      " [7. 7. 7. 7.]]\n",
      "\n",
      " [[-5. -5. -5. -5.]\n",
      " [-5. -5. -5. -5.]\n",
      " [-5. -5. -5. -5.]\n",
      " [-5. -5. -5. -5.]]\n",
      "\n",
      " [[9. 9. 9. 9.]\n",
      " [9. 9. 9. 9.]\n",
      " [9. 9. 9. 9.]\n",
      " [9. 9. 9. 9.]]\n",
      "\n",
      " [[0.125 0.125 0.125 0.125]\n",
      " [0.125 0.125 0.125 0.125]\n",
      " [0.125 0.125 0.125 0.125]\n",
      " [0.125 0.125 0.125 0.125]]\n",
      "\n",
      " [[0.84147098 0.84147098 0.84147098 0.84147098]\n",
      " [0.84147098 0.84147098 0.84147098 0.84147098]\n",
      " [0.84147098 0.84147098 0.84147098 0.84147098]\n",
      " [0.84147098 0.84147098 0.84147098 0.84147098]]\n",
      "\n",
      " [[0.54030231 0.54030231 0.54030231 0.54030231]\n",
      " [0.54030231 0.54030231 0.54030231 0.54030231]\n",
      " [0.54030231 0.54030231 0.54030231 0.54030231]\n",
      " [0.54030231 0.54030231 0.54030231 0.54030231]]\n",
      "\n",
      " [[1. 1. 1. 1.]\n",
      " [1. 1. 1. 1.]\n",
      " [1. 1. 1. 1.]\n",
      " [1. 1. 1. 1.]]\n"
     ]
    }
   ],
   "source": [
    "#BASIC MATHS OPERATIONS \n",
    "\n",
    "a = np.ones((4,4))\n",
    "\n",
    "print(a)\n",
    "\n",
    "#addition and subtraction \n",
    "\n",
    "#print(a[0] + 8)\n",
    "\n",
    "print(\"\\n\", a + 6)\n",
    "print(\"\\n\", a - 6)\n",
    "\n",
    "#multiplication and division\n",
    "\n",
    "print(\"\\n\", a * 9)\n",
    "print(\"\\n\", a / 8)\n",
    "\n",
    "#trignometry functions\n",
    "\n",
    "print(\"\\n\", np.sin(a))\n",
    "print(\"\\n\", np.cos(a))\n",
    "\n",
    "#power functions\n",
    "\n",
    "print(\"\\n\", a ** 4)\n",
    "\n",
    "#"
   ]
  },
  {
   "cell_type": "markdown",
   "id": "c57e873e",
   "metadata": {},
   "source": [
    "# Linear algebra with numpy Metricies"
   ]
  },
  {
   "cell_type": "code",
   "execution_count": 126,
   "id": "8811e254",
   "metadata": {},
   "outputs": [
    {
     "name": "stdout",
     "output_type": "stream",
     "text": [
      "\n",
      " [[10 10 10 10]\n",
      " [10 10 10 10]]\n",
      "\n",
      " [[9 9 9 9 9]\n",
      " [9 9 9 9 9]\n",
      " [9 9 9 9 9]\n",
      " [9 9 9 9 9]]\n",
      "\n",
      " [[360 360 360 360 360]\n",
      " [360 360 360 360 360]]\n"
     ]
    }
   ],
   "source": [
    "a = np.full((2,4), 10)\n",
    "b = np.full((4, 5), 9)\n",
    "\n",
    "print(\"\\n\", a)\n",
    "print(\"\\n\", b)\n",
    "\n",
    "#To multiply the metricies we use the funtion matmul(matrix1, martix2)\n",
    "\n",
    "c = np.matmul(a, b)\n",
    "print(\"\\n\", c)\n"
   ]
  },
  {
   "cell_type": "markdown",
   "id": "2e8d4c8e",
   "metadata": {},
   "source": [
    "# Min and Max values of matrix"
   ]
  },
  {
   "cell_type": "code",
   "execution_count": 12,
   "id": "b6d1f78d",
   "metadata": {},
   "outputs": [
    {
     "name": "stdout",
     "output_type": "stream",
     "text": [
      "[[3 4 5 6]\n",
      " [9 4 4 4]]\n",
      "\n",
      " 3\n",
      "\n",
      " 9\n",
      "\n",
      " [6 9]\n",
      "\n",
      " 39\n"
     ]
    }
   ],
   "source": [
    "b = np.array([[3,4,5,6],[9,4,4,4,]])\n",
    "print(b)\n",
    "#to get min value\n",
    "print(\"\\n\", np.min(b))\n",
    "\n",
    "#max values\n",
    "print(\"\\n\", np.max(b))\n",
    "\n",
    "#min and max of each row if matrix is multidiamensional\n",
    "print(\"\\n\", np.max(b, axis=1))\n",
    "\n",
    "#to add all items in the matrix\n",
    "print(\"\\n\", np.sum(b))\n"
   ]
  },
  {
   "cell_type": "markdown",
   "id": "b9018cbf",
   "metadata": {},
   "source": [
    "# Reshaping a matrix"
   ]
  },
  {
   "cell_type": "code",
   "execution_count": 17,
   "id": "b1b5ca76",
   "metadata": {},
   "outputs": [
    {
     "name": "stdout",
     "output_type": "stream",
     "text": [
      "(2, 4)\n",
      "\n",
      " [[3 4 5 6]\n",
      " [9 4 4 4]]\n",
      "\n",
      " [[3 4 5 6 9 4 4 4]]\n",
      "\n",
      " (1, 8)\n"
     ]
    }
   ],
   "source": [
    "a = b.copy()\n",
    "\n",
    "print(a.shape)\n",
    "print(\"\\n\", a)\n",
    "\n",
    "#You can change the shape of the matrix \n",
    "#When choosing a new size the existing items in the matrix must be able to create the new matrix.\n",
    "\n",
    "new = a.reshape((1,8))\n",
    "print(\"\\n\", new)\n",
    "print(\"\\n\", new.shape)"
   ]
  },
  {
   "cell_type": "markdown",
   "id": "fd36f975",
   "metadata": {},
   "source": [
    "# Reading matrix from a file"
   ]
  },
  {
   "cell_type": "code",
   "execution_count": 234,
   "id": "0249a618",
   "metadata": {
    "scrolled": true
   },
   "outputs": [
    {
     "name": "stdout",
     "output_type": "stream",
     "text": [
      "[[1. 2. 3. 4. 5. 6. 7. 8.]\n",
      " [1. 2. 3. 4. 5. 6. 7. 8.]\n",
      " [1. 2. 3. 4. 5. 6. 7. 8.]\n",
      " [1. 2. 3. 4. 5. 6. 7. 8.]\n",
      " [1. 2. 3. 4. 5. 6. 7. 8.]\n",
      " [1. 2. 3. 4. 5. 6. 7. 8.]\n",
      " [1. 2. 3. 4. 5. 6. 7. 8.]\n",
      " [1. 2. 3. 4. 5. 6. 7. 8.]]\n",
      "\n",
      " [[1 2 3 4 5 6 7 8]\n",
      " [1 2 3 4 5 6 7 8]\n",
      " [1 2 3 4 5 6 7 8]\n",
      " [1 2 3 4 5 6 7 8]\n",
      " [1 2 3 4 5 6 7 8]\n",
      " [1 2 3 4 5 6 7 8]\n",
      " [1 2 3 4 5 6 7 8]\n",
      " [1 2 3 4 5 6 7 8]]\n"
     ]
    },
    {
     "data": {
      "text/plain": [
       "(8, 8)"
      ]
     },
     "execution_count": 234,
     "metadata": {},
     "output_type": "execute_result"
    }
   ],
   "source": [
    "data = np.genfromtxt(\"matrixfile.txt\", delimiter=',')\n",
    "\n",
    "#all items will be casted to floats by default\n",
    "print(data)\n",
    "\n",
    "#cast to int\n",
    "data2 = data.astype(int)\n",
    "print(\"\\n\", data2)\n",
    "\n",
    "data.shape"
   ]
  },
  {
   "cell_type": "code",
   "execution_count": null,
   "id": "3eafe640",
   "metadata": {},
   "outputs": [],
   "source": []
  }
 ],
 "metadata": {
  "kernelspec": {
   "display_name": "Python 3 (ipykernel)",
   "language": "python",
   "name": "python3"
  },
  "language_info": {
   "codemirror_mode": {
    "name": "ipython",
    "version": 3
   },
   "file_extension": ".py",
   "mimetype": "text/x-python",
   "name": "python",
   "nbconvert_exporter": "python",
   "pygments_lexer": "ipython3",
   "version": "3.10.9"
  }
 },
 "nbformat": 4,
 "nbformat_minor": 5
}
